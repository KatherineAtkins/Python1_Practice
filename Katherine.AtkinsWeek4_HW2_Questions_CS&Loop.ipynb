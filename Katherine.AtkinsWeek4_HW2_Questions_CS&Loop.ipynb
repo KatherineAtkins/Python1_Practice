{
  "cells": [
    {
      "cell_type": "markdown",
      "metadata": {
        "id": "view-in-github",
        "colab_type": "text"
      },
      "source": [
        "<a href=\"https://colab.research.google.com/github/KatherineAtkins/Python1_Practice/blob/main/Katherine.AtkinsWeek4_HW2_Questions_CS%26Loop.ipynb\" target=\"_parent\"><img src=\"https://colab.research.google.com/assets/colab-badge.svg\" alt=\"Open In Colab\"/></a>"
      ]
    },
    {
      "cell_type": "markdown",
      "source": [
        "# **Week 4.Homework 2. Conditional Ststaments & Loops**"
      ],
      "metadata": {
        "id": "KMpff5IIShYo"
      },
      "id": "KMpff5IIShYo"
    },
    {
      "cell_type": "markdown",
      "source": [
        "**Question 1:** Write a program to check if a given number is positive."
      ],
      "metadata": {
        "id": "84pgwvwFPbc9"
      },
      "id": "84pgwvwFPbc9"
    },
    {
      "cell_type": "code",
      "source": [
        "\n",
        "x=5\n",
        "\n",
        "if x>0:\n",
        "  print(\"X is positive.\")\n",
        "else:\n",
        "  print(\"X is negative\")"
      ],
      "metadata": {
        "id": "8gVQ6F13Pbi5",
        "colab": {
          "base_uri": "https://localhost:8080/"
        },
        "outputId": "a39ae659-433f-4174-d1eb-9735129c70e7"
      },
      "id": "8gVQ6F13Pbi5",
      "execution_count": 2,
      "outputs": [
        {
          "output_type": "stream",
          "name": "stdout",
          "text": [
            "X is positive.\n"
          ]
        }
      ]
    },
    {
      "cell_type": "code",
      "source": [
        "x=-3\n",
        "if x>0:\n",
        "  print(\"X is positive.\")\n",
        "else:\n",
        "  print(\"X is negative\")"
      ],
      "metadata": {
        "colab": {
          "base_uri": "https://localhost:8080/"
        },
        "id": "es3IsPrFNUko",
        "outputId": "9fc71bf7-04c6-4d08-f330-4ed6d1c6a628"
      },
      "id": "es3IsPrFNUko",
      "execution_count": 4,
      "outputs": [
        {
          "output_type": "stream",
          "name": "stdout",
          "text": [
            "X is negative\n"
          ]
        }
      ]
    },
    {
      "cell_type": "markdown",
      "source": [
        "\n",
        "\n",
        "---\n",
        "\n",
        "\n",
        "\n",
        "---\n",
        "\n",
        "\n",
        "\n",
        "---\n",
        "\n"
      ],
      "metadata": {
        "id": "KEOOVaQ1RomG"
      },
      "id": "KEOOVaQ1RomG"
    },
    {
      "cell_type": "markdown",
      "source": [
        "**Question 2:** Write a program to check if a given number is zero."
      ],
      "metadata": {
        "id": "nAvOPEKpPsU-"
      },
      "id": "nAvOPEKpPsU-"
    },
    {
      "cell_type": "code",
      "source": [
        "x=0\n",
        "\n",
        "if x==0:\n",
        "  print(\"X is zero!\")\n",
        "else:\n",
        "  print(\"X is not zero :(\")\n",
        "\n",
        "\n",
        "\n",
        "\n"
      ],
      "metadata": {
        "id": "rTnH0KefPsfk",
        "colab": {
          "base_uri": "https://localhost:8080/"
        },
        "outputId": "39d59426-976f-4a6b-839d-12f139c033e8"
      },
      "id": "rTnH0KefPsfk",
      "execution_count": 5,
      "outputs": [
        {
          "output_type": "stream",
          "name": "stdout",
          "text": [
            "X is zero!\n"
          ]
        }
      ]
    },
    {
      "cell_type": "markdown",
      "source": [
        "**Question 3:** Write a program to check if a number is even or odd."
      ],
      "metadata": {
        "id": "_Aen2ed1O3MM"
      },
      "id": "_Aen2ed1O3MM"
    },
    {
      "cell_type": "code",
      "source": [
        "\n",
        "x=11\n",
        "\n",
        "if x%2==0:    ### the % symbol will show the remainer for the x value divided by the inputted value\n",
        "  print(\"This number is even.\")\n",
        "else:\n",
        "  print(\"This number is odd\") #the value is not strange, but it is odd\n",
        "\n"
      ],
      "metadata": {
        "id": "fwmbBwgRO3Tp",
        "colab": {
          "base_uri": "https://localhost:8080/"
        },
        "outputId": "87434530-46f4-4278-a9a9-22127539e476"
      },
      "id": "fwmbBwgRO3Tp",
      "execution_count": 6,
      "outputs": [
        {
          "output_type": "stream",
          "name": "stdout",
          "text": [
            "This number is odd\n"
          ]
        }
      ]
    },
    {
      "cell_type": "markdown",
      "source": [
        "**Question 4:** Write a program to categorize a person's age: Child (< 13), Teen (13-19), Adult (>= 20)."
      ],
      "metadata": {
        "id": "vKjni5jVP4BO"
      },
      "id": "vKjni5jVP4BO"
    },
    {
      "cell_type": "code",
      "source": [
        "\n",
        "age = int(input(\"Enter Your Age: \"))\n",
        "if age < 18:\n",
        "  if age < 12:\n",
        "    print(\"Child\")\n",
        "  else:\n",
        "    print(\"Teenager\")\n",
        "else:\n",
        "  if age < 65:\n",
        "    print(\"Adult\")\n",
        "  else:\n",
        "    print(\"Senior\")\n",
        "\n"
      ],
      "metadata": {
        "id": "IQkgIenTP4KV",
        "colab": {
          "base_uri": "https://localhost:8080/"
        },
        "outputId": "583f3218-3e6c-48cc-d8db-6e78a896775e"
      },
      "id": "IQkgIenTP4KV",
      "execution_count": 9,
      "outputs": [
        {
          "output_type": "stream",
          "name": "stdout",
          "text": [
            "Enter Your Favorite City: 21\n",
            "Adult\n"
          ]
        }
      ]
    },
    {
      "cell_type": "markdown",
      "source": [
        "**Question 5:**\n",
        "Write a program to find the largest among three numbers."
      ],
      "metadata": {
        "id": "nw7wb-g8O3dP"
      },
      "id": "nw7wb-g8O3dP"
    },
    {
      "cell_type": "code",
      "source": [
        "nums=[16, 33, 25]\n",
        "\n",
        "largest = max(nums)\n",
        "\n",
        "print(\"The largest value in this data set is:\", largest)\n"
      ],
      "metadata": {
        "id": "2gmW4HjPO3je",
        "colab": {
          "base_uri": "https://localhost:8080/"
        },
        "outputId": "b3cb176c-fd1a-4de0-95e7-80a8d47e66f7"
      },
      "id": "2gmW4HjPO3je",
      "execution_count": 14,
      "outputs": [
        {
          "output_type": "stream",
          "name": "stdout",
          "text": [
            "The largest value in this data set is: 33\n"
          ]
        }
      ]
    },
    {
      "cell_type": "markdown",
      "source": [
        "**Question 6:** Write a program to check if a year is a leap year."
      ],
      "metadata": {
        "id": "agt3rtDOO3ry"
      },
      "id": "agt3rtDOO3ry"
    },
    {
      "cell_type": "code",
      "source": [
        "def leap_year(year):\n",
        "    if (year%4 == 0):\n",
        "        return True\n",
        "    else:\n",
        "        return False\n",
        "\n",
        "year = int(input(\"Enter a year: \"))\n",
        "if leap_year(year):\n",
        "    print(year, \"is a leap year.\")\n",
        "else:\n",
        "    print(year, \"is not a leap year.\")\n",
        "\n",
        "\n"
      ],
      "metadata": {
        "id": "RC1f1IJnO3x1",
        "colab": {
          "base_uri": "https://localhost:8080/"
        },
        "outputId": "2bb2a48b-defe-46ad-b0b5-05fbc3c50977"
      },
      "id": "RC1f1IJnO3x1",
      "execution_count": 20,
      "outputs": [
        {
          "output_type": "stream",
          "name": "stdout",
          "text": [
            "Enter a year: 2020\n",
            "2020 is a leap year.\n"
          ]
        }
      ]
    },
    {
      "cell_type": "markdown",
      "source": [
        "**Question 7:** Write a for loop that prints numbers from 1 to 10.\n",
        "Answer:"
      ],
      "metadata": {
        "id": "otK-kNuDO3-t"
      },
      "id": "otK-kNuDO3-t"
    },
    {
      "cell_type": "code",
      "source": [
        "for num in range(1, 11):\n",
        "    print(num)\n",
        "\n",
        "#This is because python is a zero starting program\n"
      ],
      "metadata": {
        "id": "xGVaefEKO4Gl",
        "colab": {
          "base_uri": "https://localhost:8080/"
        },
        "outputId": "e7317482-6981-427c-b587-0998aeb26647"
      },
      "id": "xGVaefEKO4Gl",
      "execution_count": 21,
      "outputs": [
        {
          "output_type": "stream",
          "name": "stdout",
          "text": [
            "1\n",
            "2\n",
            "3\n",
            "4\n",
            "5\n",
            "6\n",
            "7\n",
            "8\n",
            "9\n",
            "10\n"
          ]
        }
      ]
    },
    {
      "cell_type": "markdown",
      "source": [
        "**Question 8:** Use a for loop to print all even numbers between 1 and 20.\n",
        "Answer:"
      ],
      "metadata": {
        "id": "o7wDAoawQYP2"
      },
      "id": "o7wDAoawQYP2"
    },
    {
      "cell_type": "code",
      "source": [
        "for num in range(1, 21):\n",
        "    if num%2 == 0:\n",
        "        print(num)\n",
        "\n",
        "\n"
      ],
      "metadata": {
        "id": "ACihkllHQYWn",
        "colab": {
          "base_uri": "https://localhost:8080/"
        },
        "outputId": "312c4eb6-3483-4702-806b-d41520e39f8b"
      },
      "id": "ACihkllHQYWn",
      "execution_count": 22,
      "outputs": [
        {
          "output_type": "stream",
          "name": "stdout",
          "text": [
            "2\n",
            "4\n",
            "6\n",
            "8\n",
            "10\n",
            "12\n",
            "14\n",
            "16\n",
            "18\n",
            "20\n"
          ]
        }
      ]
    },
    {
      "cell_type": "markdown",
      "source": [
        "**Question 9:** Write a for loop that counts down from 10 to 1."
      ],
      "metadata": {
        "id": "IkrL759eQcb-"
      },
      "id": "IkrL759eQcb-"
    },
    {
      "cell_type": "code",
      "source": [
        "num = 10\n",
        "while num >= 1:\n",
        "    print(num)\n",
        "    num -= 1\n",
        "\n",
        "\n",
        "\n"
      ],
      "metadata": {
        "id": "eurCUDCgQcjA",
        "colab": {
          "base_uri": "https://localhost:8080/"
        },
        "outputId": "d0339423-7f6f-4e66-936f-f7265399de3a"
      },
      "id": "eurCUDCgQcjA",
      "execution_count": 23,
      "outputs": [
        {
          "output_type": "stream",
          "name": "stdout",
          "text": [
            "10\n",
            "9\n",
            "8\n",
            "7\n",
            "6\n",
            "5\n",
            "4\n",
            "3\n",
            "2\n",
            "1\n"
          ]
        }
      ]
    },
    {
      "cell_type": "markdown",
      "source": [
        "**Question 10:** Write a while loop that prints \"Hello\" 5 times."
      ],
      "metadata": {
        "id": "9dCBvJewQcqg"
      },
      "id": "9dCBvJewQcqg"
    },
    {
      "cell_type": "code",
      "source": [
        "for i in list(range(5)):\n",
        "  print(\"Hellow World\")\n",
        "\n",
        "\n",
        "\n",
        "\n",
        "\n"
      ],
      "metadata": {
        "id": "s1584e9GQcwQ",
        "colab": {
          "base_uri": "https://localhost:8080/"
        },
        "outputId": "e9bfefb2-5ba3-41fa-dca4-93e98d70b4ed"
      },
      "id": "s1584e9GQcwQ",
      "execution_count": 24,
      "outputs": [
        {
          "output_type": "stream",
          "name": "stdout",
          "text": [
            "Hellow World\n",
            "Hellow World\n",
            "Hellow World\n",
            "Hellow World\n",
            "Hellow World\n"
          ]
        }
      ]
    },
    {
      "cell_type": "markdown",
      "source": [
        "**Question 11:** Use a while loop to continuously ask the user for input until they enter 'quit'."
      ],
      "metadata": {
        "id": "Pq7Agon3QhzN"
      },
      "id": "Pq7Agon3QhzN"
    },
    {
      "cell_type": "code",
      "source": [
        "while True:\n",
        "    flavor = input(\"Which ice cream flavor is the best?: \")\n",
        "    if flavor.lower() == 'quit':\n",
        "        break\n",
        "    else:\n",
        "        print(\"You entered:\", flavor, \" Try again.\")"
      ],
      "metadata": {
        "id": "TFynU9VaQh7Q",
        "colab": {
          "base_uri": "https://localhost:8080/"
        },
        "outputId": "a02629d9-ad15-4a1a-bcb1-6e5ec7f3dad9"
      },
      "id": "TFynU9VaQh7Q",
      "execution_count": 26,
      "outputs": [
        {
          "name": "stdout",
          "output_type": "stream",
          "text": [
            "Which ice cream flavor is the best?: chocolate\n",
            "You entered: chocolate  Try again.\n",
            "Which ice cream flavor is the best?: strawberry\n",
            "You entered: strawberry  Try again.\n",
            "Which ice cream flavor is the best?: vanilla\n",
            "You entered: vanilla  Try again.\n",
            "Which ice cream flavor is the best?: quit\n"
          ]
        }
      ]
    },
    {
      "cell_type": "markdown",
      "source": [
        "**Question 12:** Write a program that uses a while loop to sum numbers entered by the user until the user enters 0. Print the total sum after the loop ends."
      ],
      "metadata": {
        "id": "HeNAXXMtSYKU"
      },
      "id": "HeNAXXMtSYKU"
    },
    {
      "cell_type": "code",
      "source": [
        "total_sum = 0\n",
        "\n",
        "number = float(input(\"Enter a number: \"))\n",
        "\n",
        "while number != 0:\n",
        "    total_sum += number\n",
        "\n",
        "\n",
        "print(\"The total sum is:\", total_sum)\n"
      ],
      "metadata": {
        "id": "cWoq698SSYTo",
        "colab": {
          "base_uri": "https://localhost:8080/"
        },
        "outputId": "f0562cc2-49e6-4678-8314-3ee69b3fdc80"
      },
      "id": "cWoq698SSYTo",
      "execution_count": 27,
      "outputs": [
        {
          "output_type": "stream",
          "name": "stdout",
          "text": [
            "Enter a number (enter 0 to stop): 10\n",
            "Enter a number (enter 0 to stop): 9\n",
            "Enter a number (enter 0 to stop): 9\n",
            "Enter a number (enter 0 to stop): 7\n",
            "Enter a number (enter 0 to stop): 30\n",
            "Enter a number (enter 0 to stop): 2\n",
            "Enter a number (enter 0 to stop): 0\n",
            "The total sum is: 67.0\n"
          ]
        }
      ]
    },
    {
      "cell_type": "code",
      "source": [],
      "metadata": {
        "id": "ynlzU05bVhxb"
      },
      "id": "ynlzU05bVhxb",
      "execution_count": null,
      "outputs": []
    }
  ],
  "metadata": {
    "colab": {
      "provenance": [],
      "include_colab_link": true
    },
    "language_info": {
      "name": "python"
    },
    "kernelspec": {
      "name": "python3",
      "display_name": "Python 3"
    }
  },
  "nbformat": 4,
  "nbformat_minor": 5
}